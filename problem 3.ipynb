{
 "cells": [
  {
   "cell_type": "code",
   "execution_count": null,
   "metadata": {},
   "outputs": [],
   "source": [
    "# The prime factors of 13195 are 5, 7, 13 and 29.\n",
    "\n",
    "# What is the largest prime factor of the number 600851475143 ?\n",
    "\n",
    "#program is right but running for 10^12 no of points it is taking a lot of time"
   ]
  },
  {
   "cell_type": "code",
   "execution_count": 3,
   "metadata": {},
   "outputs": [
    {
     "name": "stdout",
     "output_type": "stream",
     "text": [
      "[13, 29, 5, 7]\n"
     ]
    }
   ],
   "source": [
    "a=[]\n",
    "b=[]\n",
    "for i in range (2,13195,1):\n",
    "    z=13195%i\n",
    "    if(z==0):\n",
    "        k=i\n",
    "        b.append(k)\n",
    "        for j in range(2,k,1):\n",
    "            m=k%j\n",
    "            if(m==0):\n",
    "                a.append(k)\n",
    "                break\n",
    "                \n",
    "def Diff(b, a): \n",
    "    return list(set(b)-set(a))\n",
    "  \n",
    "print(Diff(b, a)) \n",
    "\n",
    "                \n",
    "#print(Diff(b,a),\"non prime list\")\n",
    "#print(b,\"total list\")\n",
    "#print(c,\"prime list\")\n",
    "    "
   ]
  },
  {
   "cell_type": "code",
   "execution_count": null,
   "metadata": {},
   "outputs": [],
   "source": []
  }
 ],
 "metadata": {
  "kernelspec": {
   "display_name": "Python 3",
   "language": "python",
   "name": "python3"
  },
  "language_info": {
   "codemirror_mode": {
    "name": "ipython",
    "version": 3
   },
   "file_extension": ".py",
   "mimetype": "text/x-python",
   "name": "python",
   "nbconvert_exporter": "python",
   "pygments_lexer": "ipython3",
   "version": "3.8.3"
  }
 },
 "nbformat": 4,
 "nbformat_minor": 4
}
