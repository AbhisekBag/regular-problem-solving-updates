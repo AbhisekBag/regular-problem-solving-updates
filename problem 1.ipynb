{
 "cells": [
  {
   "cell_type": "code",
   "execution_count": null,
   "metadata": {},
   "outputs": [],
   "source": [
    "# If we list all the natural numbers below 10 that are multiples of 3 or 5, we get 3, 5, 6 and 9\n",
    "# The sum of these multiples is 23.\n",
    "# Find the sum of all the multiples of 3 or 5 below 1000."
   ]
  },
  {
   "cell_type": "code",
   "execution_count": 266,
   "metadata": {},
   "outputs": [
    {
     "name": "stdout",
     "output_type": "stream",
     "text": [
      "266333 ans\n"
     ]
    }
   ],
   "source": [
    "def x(limit):\n",
    "    i = 3\n",
    "    p = []\n",
    "    while i < limit:\n",
    "        p.append(i)\n",
    "        i = i + 3  \n",
    "        sum=0\n",
    "        #print(p)\n",
    "        for num in p:\n",
    "            sum += num\n",
    "    return sum\n",
    "\n",
    "def y(limit):\n",
    "    i = 5\n",
    "    q = []\n",
    "    while i < limit:\n",
    "        q.append(i)\n",
    "        i = i + 5\n",
    "        sum=0\n",
    "        for num in q:\n",
    "            sum += num\n",
    "    return sum\n",
    "        \n",
    "a=1000\n",
    "b=1000\n",
    "x(a)\n",
    "y(b)\n",
    "z=x(a)+y(b)\n",
    "print(z,\"ans\")\n",
    "\n",
    "# this code runs fine but the problem is the number divisable by 15 has been considered and added twice \n",
    "# hence the sum here is coming more than the actual answer\n",
    "# we need to subtract now the sum of list of numbers divisible by 15 and it should work fine"
   ]
  },
  {
   "cell_type": "code",
   "execution_count": 264,
   "metadata": {},
   "outputs": [
    {
     "name": "stdout",
     "output_type": "stream",
     "text": [
      "233168\n"
     ]
    }
   ],
   "source": [
    "j=0\n",
    "k=0\n",
    "for i in range (0,1000,1):\n",
    "\n",
    "    if(i%3 == 0): #and i%5 == 0):\n",
    "        j+=i\n",
    "    elif (i%5 == 0):\n",
    "        k+=i\n",
    "    z=k+j\n",
    "print(z,\"ans\")\n",
    "    \n",
    "    \n",
    "# this is the correct code\n",
    "    "
   ]
  },
  {
   "cell_type": "code",
   "execution_count": 5,
   "metadata": {},
   "outputs": [],
   "source": [
    "import matplotlib.pyplot as plt"
   ]
  },
  {
   "cell_type": "code",
   "execution_count": 13,
   "metadata": {},
   "outputs": [
    {
     "data": {
      "image/png": "[encoded data removed]",
      "text/plain": [
       "<Figure size 432x288 with 1 Axes>"
      ]
     },
     "metadata": {
      "needs_background": "light"
     },
     "output_type": "display_data"
    }
   ],
   "source": [
    "j=0\n",
    "k=0\n",
    "for i in range (0,100,1):\n",
    "\n",
    "    if(i%3 == 0): #and i%5 == 0):\n",
    "        j+=i\n",
    "    elif (i%5 == 0):\n",
    "        k+=i\n",
    "    z=k+j\n",
    "    #print(z,\"ans\")\n",
    "    plt.plot([i],[z],'ro')\n",
    "    \n",
    "    \n",
    "# this is the correct code"
   ]
  },
  {
   "cell_type": "code",
   "execution_count": null,
   "metadata": {},
   "outputs": [],
   "source": []
  }
 ],
 "metadata": {
  "kernelspec": {
   "display_name": "Python 3",
   "language": "python",
   "name": "python3"
  },
  "language_info": {
   "codemirror_mode": {
    "name": "ipython",
    "version": 3
   },
   "file_extension": ".py",
   "mimetype": "text/x-python",
   "name": "python",
   "nbconvert_exporter": "python",
   "pygments_lexer": "ipython3",
   "version": "3.8.3"
  }
 },
 "nbformat": 4,
 "nbformat_minor": 4
}
